{
 "cells": [
  {
   "cell_type": "code",
   "execution_count": 11,
   "metadata": {},
   "outputs": [],
   "source": [
    "import numpy as np\n",
    "import pandas as pd\n",
    "import matplotlib.pyplot as plt\n",
    "import seaborn as sns\n",
    "%matplotlib inline\n",
    "\n",
    "import warnings\n",
    "warnings.filterwarnings('ignore')"
   ]
  },
  {
   "cell_type": "code",
   "execution_count": 12,
   "metadata": {},
   "outputs": [],
   "source": [
    "df=pd.read_csv('Iris.csv')"
   ]
  },
  {
   "cell_type": "code",
   "execution_count": 13,
   "metadata": {},
   "outputs": [],
   "source": [
    "X = pd.DataFrame()\n",
    "def generate():\n",
    "    X = df.loc[:,df.columns != 'Species']\n",
    "    return X\n",
    "X = generate()"
   ]
  },
  {
   "cell_type": "code",
   "execution_count": 14,
   "metadata": {},
   "outputs": [],
   "source": [
    "from sklearn.preprocessing import LabelEncoder\n",
    "import pandas as pd\n",
    "def generate():\n",
    "    y = df.iloc[:,df.columns == 'Species']\n",
    "    y = pd.DataFrame(LabelEncoder().fit_transform(y))\n",
    "    return y\n",
    "y = generate()\n"
   ]
  },
  {
   "cell_type": "code",
   "execution_count": 15,
   "metadata": {},
   "outputs": [
    {
     "data": {
      "text/html": [
       "<div>\n",
       "<style scoped>\n",
       "    .dataframe tbody tr th:only-of-type {\n",
       "        vertical-align: middle;\n",
       "    }\n",
       "\n",
       "    .dataframe tbody tr th {\n",
       "        vertical-align: top;\n",
       "    }\n",
       "\n",
       "    .dataframe thead th {\n",
       "        text-align: right;\n",
       "    }\n",
       "</style>\n",
       "<table border=\"1\" class=\"dataframe\">\n",
       "  <thead>\n",
       "    <tr style=\"text-align: right;\">\n",
       "      <th></th>\n",
       "      <th>0</th>\n",
       "    </tr>\n",
       "  </thead>\n",
       "  <tbody>\n",
       "    <tr>\n",
       "      <th>0</th>\n",
       "      <td>0</td>\n",
       "    </tr>\n",
       "    <tr>\n",
       "      <th>1</th>\n",
       "      <td>0</td>\n",
       "    </tr>\n",
       "    <tr>\n",
       "      <th>2</th>\n",
       "      <td>0</td>\n",
       "    </tr>\n",
       "    <tr>\n",
       "      <th>3</th>\n",
       "      <td>0</td>\n",
       "    </tr>\n",
       "    <tr>\n",
       "      <th>4</th>\n",
       "      <td>0</td>\n",
       "    </tr>\n",
       "  </tbody>\n",
       "</table>\n",
       "</div>"
      ],
      "text/plain": [
       "   0\n",
       "0  0\n",
       "1  0\n",
       "2  0\n",
       "3  0\n",
       "4  0"
      ]
     },
     "execution_count": 15,
     "metadata": {},
     "output_type": "execute_result"
    }
   ],
   "source": [
    "y.head()"
   ]
  },
  {
   "cell_type": "code",
   "execution_count": 16,
   "metadata": {},
   "outputs": [],
   "source": [
    "from sklearn.preprocessing import StandardScaler\n",
    "def generate():\n",
    "    standardized = StandardScaler()\n",
    "    standardized.fit(X)\n",
    "    return standardized.transform(X)\n",
    "X = generate()"
   ]
  },
  {
   "cell_type": "code",
   "execution_count": 17,
   "metadata": {},
   "outputs": [],
   "source": [
    "from sklearn.model_selection import train_test_split\n",
    "def generate():\n",
    "    return train_test_split(X, y, test_size=0.35, random_state=1) \n",
    "X_train, X_test, y_train, y_test = generate()"
   ]
  },
  {
   "cell_type": "code",
   "execution_count": 18,
   "metadata": {},
   "outputs": [
    {
     "name": "stdout",
     "output_type": "stream",
     "text": [
      "Accuracy Score:\n",
      "1.0\n"
     ]
    },
    {
     "data": {
      "text/plain": [
       "SVC(C=1.0, cache_size=200, class_weight=None, coef0=0.0,\n",
       "  decision_function_shape='ovr', degree=3, gamma='auto_deprecated',\n",
       "  kernel='rbf', max_iter=-1, probability=False, random_state=0,\n",
       "  shrinking=True, tol=0.001, verbose=False)"
      ]
     },
     "execution_count": 18,
     "metadata": {},
     "output_type": "execute_result"
    }
   ],
   "source": [
    "from sklearn.svm import SVC\n",
    "from sklearn import metrics\n",
    "def generate():\n",
    "    svc = SVC(random_state = 0) \n",
    "    svc.fit(X_train,y_train)\n",
    "    y_pred = svc.predict(X_test)\n",
    "    print('Accuracy Score:')\n",
    "    print(metrics.accuracy_score(y_test,y_pred))\n",
    "    return svc\n",
    "generate()"
   ]
  },
  {
   "cell_type": "code",
   "execution_count": 19,
   "metadata": {},
   "outputs": [
    {
     "data": {
      "text/plain": [
       "1.0"
      ]
     },
     "execution_count": 19,
     "metadata": {},
     "output_type": "execute_result"
    }
   ],
   "source": [
    "from sklearn.model_selection import cross_val_score\n",
    "# create and configure model\n",
    "model = SVC(gamma='scale')\n",
    "def generate():\n",
    "    svc = SVC(kernel='rbf',random_state = 0)\n",
    "    scores = cross_val_score(svc, X, y, cv=10, scoring='accuracy') \n",
    "    return scores.mean()\n",
    "generate()"
   ]
  },
  {
   "cell_type": "code",
   "execution_count": 20,
   "metadata": {},
   "outputs": [
    {
     "data": {
      "image/png": "[encoded data removed]",
      "text/plain": [
       "<Figure size 432x288 with 1 Axes>"
      ]
     },
     "metadata": {
      "needs_background": "light"
     },
     "output_type": "display_data"
    }
   ],
   "source": [
    "gamma_range=[0.0001,0.001,0.01,0.1,1,10,100]\n",
    "acc_score=[]\n",
    "\n",
    "import matplotlib.pyplot as plt\n",
    "import numpy as np\n",
    "%matplotlib inline\n",
    "\n",
    "def generate():\n",
    "    for g in gamma_range:\n",
    "        svc = SVC(kernel='rbf', gamma=g)\n",
    "        scores = cross_val_score(svc, X, y, cv=10, scoring='accuracy')\n",
    "        acc_score.append(scores.mean())\n",
    "    \n",
    "    plt.plot(gamma_range,acc_score)\n",
    "    \n",
    "    plt.xlabel('Value of gamma for SVC ')\n",
    "    \n",
    "    plt.xticks(np.arange(0.001,100,5))\n",
    "    \n",
    "    plt.ylabel('Cross-Validated Accuracy')\n",
    "    \n",
    "    return\n",
    "    \n",
    "generate()"
   ]
  },
  {
   "cell_type": "code",
   "execution_count": 21,
   "metadata": {},
   "outputs": [
    {
     "data": {
      "image/png": "[encoded data removed]",
      "text/plain": [
       "<Figure size 432x288 with 1 Axes>"
      ]
     },
     "metadata": {
      "needs_background": "light"
     },
     "output_type": "display_data"
    }
   ],
   "source": [
    "gamma_range=[0.0001,0.001,0.01,0.1]\n",
    "acc_score=[]\n",
    "\n",
    "import matplotlib.pyplot as plt\n",
    "import numpy as np\n",
    "%matplotlib inline\n",
    "\n",
    "def generate():\n",
    "    for g in gamma_range:\n",
    "        svc = SVC(kernel='rbf', gamma=g)\n",
    "        scores = cross_val_score(svc, X, y, cv=10, scoring='accuracy')\n",
    "        acc_score.append(scores.mean())\n",
    "    \n",
    "    plt.plot(gamma_range,acc_score)\n",
    "    \n",
    "    plt.xlabel('Value of gamma for SVC ')\n",
    "    \n",
    "    #plt.xticks(np.arange(0.001,100,5))\n",
    "    \n",
    "    plt.ylabel('Cross-Validated Accuracy')\n",
    "    return\n",
    "generate()"
   ]
  },
  {
   "cell_type": "code",
   "execution_count": 22,
   "metadata": {},
   "outputs": [
    {
     "name": "stdout",
     "output_type": "stream",
     "text": [
      "Mean cross-validated score of the best_estimator is: 1.0\n",
      "Accuracy_score is : 1.0 \n",
      "Parameter setting that gave the best results:\n",
      "  {'C': 0.2, 'kernel': 'linear'}\n"
     ]
    }
   ],
   "source": [
    "from sklearn.model_selection import GridSearchCV\n",
    "from scipy.stats import randint as sp_randint\n",
    "\n",
    "from sklearn.svm import SVC\n",
    "svm_model = SVC()\n",
    "\n",
    "def generate():\n",
    "    param_dist = [\n",
    "                     {'C': (np.arange(0.1,1,0.1)) , 'kernel': ['linear']},\n",
    "                     {'C': (np.arange(0.1,1.1,0.1)) , 'gamma': ['auto','auto_deprecated','scale'], 'kernel': ['rbf']},\n",
    "                     {'degree' : [2,3,4] ,'gamma' :[0.01,0.02,0.03,0.04,0.05], 'C' :(np.arange(0.1,1,0.1)) , 'kernel':['poly']}\n",
    "                 ]\n",
    "\n",
    "    \n",
    "    model_svm = GridSearchCV( svm_model,\n",
    "                                    param_grid = param_dist,     \n",
    "                                    n_jobs = -1,\n",
    "                                    cv = 10,\n",
    "                                    scoring = 'accuracy')\n",
    "    model_svm.fit(X_train, y_train)\n",
    "    print('Mean cross-validated score of the best_estimator is: {}'.format(model_svm.best_score_))\n",
    "    y_pred= model_svm.predict(X_test)\n",
    "    print('Accuracy_score is : {} '.format(metrics.accuracy_score(y_pred,y_test)))\n",
    "    return model_svm\n",
    "model_svm = generate()\n",
    "print('Parameter setting that gave the best results:\\n ',model_svm.best_params_)"
   ]
  },
  {
   "cell_type": "code",
   "execution_count": null,
   "metadata": {},
   "outputs": [],
   "source": []
  }
 ],
 "metadata": {
  "kernelspec": {
   "display_name": "Python 3",
   "language": "python",
   "name": "python3"
  },
  "language_info": {
   "codemirror_mode": {
    "name": "ipython",
    "version": 3
   },
   "file_extension": ".py",
   "mimetype": "text/x-python",
   "name": "python",
   "nbconvert_exporter": "python",
   "pygments_lexer": "ipython3",
   "version": "3.7.1"
  }
 },
 "nbformat": 4,
 "nbformat_minor": 2
}
