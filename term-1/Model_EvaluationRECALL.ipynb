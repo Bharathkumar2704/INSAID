{
 "cells": [
  {
   "cell_type": "code",
   "execution_count": 1,
   "metadata": {},
   "outputs": [],
   "source": [
    "import pandas as pd\n",
    "import numpy as np\n",
    "from sklearn import metrics\n",
    "import matplotlib.pyplot as plt \n",
    "plt.rc(\"font\", size=14)\n",
    "import seaborn as sns\n",
    "sns.set(style=\"white\")\n",
    "sns.set(style=\"whitegrid\", color_codes=True)"
   ]
  },
  {
   "cell_type": "code",
   "execution_count": 2,
   "metadata": {},
   "outputs": [
    {
     "data": {
      "text/html": [
       "<div>\n",
       "<style scoped>\n",
       "    .dataframe tbody tr th:only-of-type {\n",
       "        vertical-align: middle;\n",
       "    }\n",
       "\n",
       "    .dataframe tbody tr th {\n",
       "        vertical-align: top;\n",
       "    }\n",
       "\n",
       "    .dataframe thead th {\n",
       "        text-align: right;\n",
       "    }\n",
       "</style>\n",
       "<table border=\"1\" class=\"dataframe\">\n",
       "  <thead>\n",
       "    <tr style=\"text-align: right;\">\n",
       "      <th></th>\n",
       "      <th>num</th>\n",
       "      <th>Date</th>\n",
       "      <th>AveragePrice</th>\n",
       "      <th>Total Volume</th>\n",
       "      <th>4046</th>\n",
       "      <th>4225</th>\n",
       "      <th>4770</th>\n",
       "      <th>Total Bags</th>\n",
       "      <th>Small Bags</th>\n",
       "      <th>Large Bags</th>\n",
       "      <th>XLarge Bags</th>\n",
       "      <th>type</th>\n",
       "      <th>year</th>\n",
       "      <th>region</th>\n",
       "    </tr>\n",
       "  </thead>\n",
       "  <tbody>\n",
       "    <tr>\n",
       "      <th>0</th>\n",
       "      <td>0</td>\n",
       "      <td>2015-12-27</td>\n",
       "      <td>1.33</td>\n",
       "      <td>64236.62</td>\n",
       "      <td>1036.74</td>\n",
       "      <td>54454.85</td>\n",
       "      <td>48.16</td>\n",
       "      <td>8696.87</td>\n",
       "      <td>8603.62</td>\n",
       "      <td>93.25</td>\n",
       "      <td>0.0</td>\n",
       "      <td>conventional</td>\n",
       "      <td>2015</td>\n",
       "      <td>Albany</td>\n",
       "    </tr>\n",
       "    <tr>\n",
       "      <th>1</th>\n",
       "      <td>1</td>\n",
       "      <td>2015-12-20</td>\n",
       "      <td>1.35</td>\n",
       "      <td>54876.98</td>\n",
       "      <td>674.28</td>\n",
       "      <td>44638.81</td>\n",
       "      <td>58.33</td>\n",
       "      <td>9505.56</td>\n",
       "      <td>9408.07</td>\n",
       "      <td>97.49</td>\n",
       "      <td>0.0</td>\n",
       "      <td>conventional</td>\n",
       "      <td>2015</td>\n",
       "      <td>Albany</td>\n",
       "    </tr>\n",
       "    <tr>\n",
       "      <th>2</th>\n",
       "      <td>2</td>\n",
       "      <td>2015-12-13</td>\n",
       "      <td>0.93</td>\n",
       "      <td>118220.22</td>\n",
       "      <td>794.70</td>\n",
       "      <td>109149.67</td>\n",
       "      <td>130.50</td>\n",
       "      <td>8145.35</td>\n",
       "      <td>8042.21</td>\n",
       "      <td>103.14</td>\n",
       "      <td>0.0</td>\n",
       "      <td>conventional</td>\n",
       "      <td>2015</td>\n",
       "      <td>Albany</td>\n",
       "    </tr>\n",
       "    <tr>\n",
       "      <th>3</th>\n",
       "      <td>3</td>\n",
       "      <td>2015-12-06</td>\n",
       "      <td>1.08</td>\n",
       "      <td>78992.15</td>\n",
       "      <td>1132.00</td>\n",
       "      <td>71976.41</td>\n",
       "      <td>72.58</td>\n",
       "      <td>5811.16</td>\n",
       "      <td>5677.40</td>\n",
       "      <td>133.76</td>\n",
       "      <td>0.0</td>\n",
       "      <td>conventional</td>\n",
       "      <td>2015</td>\n",
       "      <td>Albany</td>\n",
       "    </tr>\n",
       "    <tr>\n",
       "      <th>4</th>\n",
       "      <td>4</td>\n",
       "      <td>2015-11-29</td>\n",
       "      <td>1.28</td>\n",
       "      <td>51039.60</td>\n",
       "      <td>941.48</td>\n",
       "      <td>43838.39</td>\n",
       "      <td>75.78</td>\n",
       "      <td>6183.95</td>\n",
       "      <td>5986.26</td>\n",
       "      <td>197.69</td>\n",
       "      <td>0.0</td>\n",
       "      <td>conventional</td>\n",
       "      <td>2015</td>\n",
       "      <td>Albany</td>\n",
       "    </tr>\n",
       "  </tbody>\n",
       "</table>\n",
       "</div>"
      ],
      "text/plain": [
       "   num        Date  AveragePrice  Total Volume     4046       4225    4770  \\\n",
       "0    0  2015-12-27          1.33      64236.62  1036.74   54454.85   48.16   \n",
       "1    1  2015-12-20          1.35      54876.98   674.28   44638.81   58.33   \n",
       "2    2  2015-12-13          0.93     118220.22   794.70  109149.67  130.50   \n",
       "3    3  2015-12-06          1.08      78992.15  1132.00   71976.41   72.58   \n",
       "4    4  2015-11-29          1.28      51039.60   941.48   43838.39   75.78   \n",
       "\n",
       "   Total Bags  Small Bags  Large Bags  XLarge Bags          type  year  region  \n",
       "0     8696.87     8603.62       93.25          0.0  conventional  2015  Albany  \n",
       "1     9505.56     9408.07       97.49          0.0  conventional  2015  Albany  \n",
       "2     8145.35     8042.21      103.14          0.0  conventional  2015  Albany  \n",
       "3     5811.16     5677.40      133.76          0.0  conventional  2015  Albany  \n",
       "4     6183.95     5986.26      197.69          0.0  conventional  2015  Albany  "
      ]
     },
     "execution_count": 2,
     "metadata": {},
     "output_type": "execute_result"
    }
   ],
   "source": [
    "crime = pd.read_csv('avocado.csv')\n",
    "crime.head()"
   ]
  },
  {
   "cell_type": "code",
   "execution_count": 3,
   "metadata": {},
   "outputs": [
    {
     "name": "stdout",
     "output_type": "stream",
     "text": [
      "       num        Date  AveragePrice  Total Volume       4046       4225  \\\n",
      "0        0  2015-12-27          1.33      64236.62    1036.74   54454.85   \n",
      "1        1  2015-12-20          1.35      54876.98     674.28   44638.81   \n",
      "2        2  2015-12-13          0.93     118220.22     794.70  109149.67   \n",
      "3        3  2015-12-06          1.08      78992.15    1132.00   71976.41   \n",
      "4        4  2015-11-29          1.28      51039.60     941.48   43838.39   \n",
      "5        5  2015-11-22          1.26      55979.78    1184.27   48067.99   \n",
      "6        6  2015-11-15          0.99      83453.76    1368.92   73672.72   \n",
      "7        7  2015-11-08          0.98     109428.33     703.75  101815.36   \n",
      "8        8  2015-11-01          1.02      99811.42    1022.15   87315.57   \n",
      "9        9  2015-10-25          1.07      74338.76     842.40   64757.44   \n",
      "10      10  2015-10-18          1.12      84843.44     924.86   75595.85   \n",
      "11      11  2015-10-11          1.28      64489.17    1582.03   52677.92   \n",
      "12      12  2015-10-04          1.31      61007.10    2268.32   49880.67   \n",
      "13      13  2015-09-27          0.99     106803.39    1204.88   99409.21   \n",
      "14      14  2015-09-20          1.33      69759.01    1028.03   59313.12   \n",
      "15      15  2015-09-13          1.28      76111.27     985.73   65696.86   \n",
      "16      16  2015-09-06          1.11      99172.96     879.45   90062.62   \n",
      "17      17  2015-08-30          1.07     105693.84     689.01   94362.67   \n",
      "18      18  2015-08-23          1.34      79992.09     733.16   67933.79   \n",
      "19      19  2015-08-16          1.33      80043.78     539.65   68666.01   \n",
      "20      20  2015-08-09          1.12     111140.93     584.63  100961.46   \n",
      "21      21  2015-08-02          1.45      75133.10     509.94   62035.06   \n",
      "22      22  2015-07-26          1.11     106757.10     648.75   91949.05   \n",
      "23      23  2015-07-19          1.26      96617.00    1042.10   82049.40   \n",
      "24      24  2015-07-12          1.05     124055.31     672.25   94693.52   \n",
      "25      25  2015-07-05          1.35     109252.12     869.45   72600.55   \n",
      "26      26  2015-06-28          1.37      89534.81     664.23   57545.79   \n",
      "27      27  2015-06-21          1.27     104849.39     804.01   76688.55   \n",
      "28      28  2015-06-14          1.32      89631.30     850.58   55400.94   \n",
      "29      29  2015-06-07          1.07     122743.06     656.71   99220.82   \n",
      "...    ...         ...           ...           ...        ...        ...   \n",
      "18219    6  2018-02-11          1.56    1317000.47   98465.26  270798.27   \n",
      "18220    7  2018-02-04          1.53    1384683.41  117922.52  287724.61   \n",
      "18221    8  2018-01-28          1.61    1336979.09  118616.17  280080.34   \n",
      "18222    9  2018-01-21          1.63    1283987.65  108705.28  259172.13   \n",
      "18223   10  2018-01-14          1.59    1476651.08  145680.62  323669.83   \n",
      "18224   11  2018-01-07          1.51    1517332.70  129541.43  296490.29   \n",
      "18225    0  2018-03-25          1.60     271723.08   26996.28   77861.39   \n",
      "18226    1  2018-03-18          1.73     210067.47   33437.98   47165.54   \n",
      "18227    2  2018-03-11          1.63     264691.87   27566.25   60383.57   \n",
      "18228    3  2018-03-04          1.46     347373.17   25990.60   71213.19   \n",
      "18229    4  2018-02-25          1.49     301985.61   34200.18   49139.34   \n",
      "18230    5  2018-02-18          1.64     224798.60   30149.00   38800.64   \n",
      "18231    6  2018-02-11          1.47     275248.53   24732.55   61713.53   \n",
      "18232    7  2018-02-04          1.41     283378.47   22474.66   55360.49   \n",
      "18233    8  2018-01-28          1.80     185974.53   22918.40   33051.14   \n",
      "18234    9  2018-01-21          1.83     189317.99   27049.44   33561.32   \n",
      "18235   10  2018-01-14          1.82     207999.67   33869.12   47435.14   \n",
      "18236   11  2018-01-07          1.48     297190.60   34734.97   62967.74   \n",
      "18237    0  2018-03-25          1.62      15303.40    2325.30    2171.66   \n",
      "18238    1  2018-03-18          1.56      15896.38    2055.35    1499.55   \n",
      "18239    2  2018-03-11          1.56      22128.42    2162.67    3194.25   \n",
      "18240    3  2018-03-04          1.54      17393.30    1832.24    1905.57   \n",
      "18241    4  2018-02-25          1.57      18421.24    1974.26    2482.65   \n",
      "18242    5  2018-02-18          1.56      17597.12    1892.05    1928.36   \n",
      "18243    6  2018-02-11          1.57      15986.17    1924.28    1368.32   \n",
      "18244    7  2018-02-04          1.63      17074.83    2046.96    1529.20   \n",
      "18245    8  2018-01-28          1.71      13888.04    1191.70    3431.50   \n",
      "18246    9  2018-01-21          1.87      13766.76    1191.92    2452.79   \n",
      "18247   10  2018-01-14          1.93      16205.22    1527.63    2981.04   \n",
      "18248   11  2018-01-07          1.62      17489.58    2894.77    2356.13   \n",
      "\n",
      "          4770  Total Bags  Small Bags  Large Bags  XLarge Bags  type  year  \\\n",
      "0        48.16     8696.87     8603.62       93.25         0.00     1  2015   \n",
      "1        58.33     9505.56     9408.07       97.49         0.00     1  2015   \n",
      "2       130.50     8145.35     8042.21      103.14         0.00     1  2015   \n",
      "3        72.58     5811.16     5677.40      133.76         0.00     1  2015   \n",
      "4        75.78     6183.95     5986.26      197.69         0.00     1  2015   \n",
      "5        43.61     6683.91     6556.47      127.44         0.00     1  2015   \n",
      "6        93.26     8318.86     8196.81      122.05         0.00     1  2015   \n",
      "7        80.00     6829.22     6266.85      562.37         0.00     1  2015   \n",
      "8        85.34    11388.36    11104.53      283.83         0.00     1  2015   \n",
      "9       113.00     8625.92     8061.47      564.45         0.00     1  2015   \n",
      "10      117.07     8205.66     7877.86      327.80         0.00     1  2015   \n",
      "11      105.32    10123.90     9866.27      257.63         0.00     1  2015   \n",
      "12      101.36     8756.75     8379.98      376.77         0.00     1  2015   \n",
      "13      154.84     6034.46     5888.87      145.59         0.00     1  2015   \n",
      "14      150.50     9267.36     8489.10      778.26         0.00     1  2015   \n",
      "15      142.00     9286.68     8665.19      621.49         0.00     1  2015   \n",
      "16      240.79     7990.10     7762.87      227.23         0.00     1  2015   \n",
      "17      335.43    10306.73    10218.93       87.80         0.00     1  2015   \n",
      "18      444.78    10880.36    10745.79      134.57         0.00     1  2015   \n",
      "19      394.90    10443.22    10297.68      145.54         0.00     1  2015   \n",
      "20      368.95     9225.89     9116.34      109.55         0.00     1  2015   \n",
      "21      741.08    11847.02    11768.52       78.50         0.00     1  2015   \n",
      "22      966.61    13192.69    13061.53      131.16         0.00     1  2015   \n",
      "23     2238.02    11287.48    11103.49      183.99         0.00     1  2015   \n",
      "24     4257.64    24431.90    24290.08      108.49        33.33     1  2015   \n",
      "25     5883.16    29898.96    29663.19      235.77         0.00     1  2015   \n",
      "26     4662.71    26662.08    26311.76      350.32         0.00     1  2015   \n",
      "27     5481.18    21875.65    21662.00      213.65         0.00     1  2015   \n",
      "28     4377.19    29002.59    28343.14      659.45         0.00     1  2015   \n",
      "29       90.32    22775.21    22314.99      460.22         0.00     1  2015   \n",
      "...        ...         ...         ...         ...          ...   ...   ...   \n",
      "18219  1839.80   945638.02   768242.42   177144.00       251.60     0  2018   \n",
      "18220  1703.52   977084.84   774695.74   201878.69       510.41     0  2018   \n",
      "18221  1270.61   936859.49   796104.27   140652.84       102.38     0  2018   \n",
      "18222  1490.02   914409.26   710654.40   203526.59       228.27     0  2018   \n",
      "18223  1580.01  1005593.78   858772.69   146808.97        12.12     0  2018   \n",
      "18224  1289.07  1089861.24   915452.78   174381.57        26.89     0  2018   \n",
      "18225   117.56   166747.85    87108.00    79495.39       144.46     0  2018   \n",
      "18226   110.40   129353.55    73163.12    56020.24       170.19     0  2018   \n",
      "18227   276.42   176465.63   107174.93    69290.70         0.00     0  2018   \n",
      "18228    79.01   250090.37    85835.17   164087.33       167.87     0  2018   \n",
      "18229    85.58   218560.51    99989.62   118314.77       256.12     0  2018   \n",
      "18230   123.13   155725.83   120428.13    35257.73        39.97     0  2018   \n",
      "18231   243.00   188559.45    88497.05    99810.80       251.60     0  2018   \n",
      "18232   133.41   205409.91    70232.59   134666.91       510.41     0  2018   \n",
      "18233    93.52   129911.47    77822.23    51986.86       102.38     0  2018   \n",
      "18234   439.47   128267.76    76091.99    51947.50       228.27     0  2018   \n",
      "18235   433.52   126261.89    89115.78    37133.99        12.12     0  2018   \n",
      "18236   157.77   199330.12   103761.55    95544.39        24.18     0  2018   \n",
      "18237     0.00    10806.44    10569.80      236.64         0.00     0  2018   \n",
      "18238     0.00    12341.48    12114.81      226.67         0.00     0  2018   \n",
      "18239     8.93    16762.57    16510.32      252.25         0.00     0  2018   \n",
      "18240     0.00    13655.49    13401.93      253.56         0.00     0  2018   \n",
      "18241     0.00    13964.33    13698.27      266.06         0.00     0  2018   \n",
      "18242     0.00    13776.71    13553.53      223.18         0.00     0  2018   \n",
      "18243     0.00    12693.57    12437.35      256.22         0.00     0  2018   \n",
      "18244     0.00    13498.67    13066.82      431.85         0.00     0  2018   \n",
      "18245     0.00     9264.84     8940.04      324.80         0.00     0  2018   \n",
      "18246   727.94     9394.11     9351.80       42.31         0.00     0  2018   \n",
      "18247   727.01    10969.54    10919.54       50.00         0.00     0  2018   \n",
      "18248   224.53    12014.15    11988.14       26.01         0.00     0  2018   \n",
      "\n",
      "                 region  \n",
      "0                Albany  \n",
      "1                Albany  \n",
      "2                Albany  \n",
      "3                Albany  \n",
      "4                Albany  \n",
      "5                Albany  \n",
      "6                Albany  \n",
      "7                Albany  \n",
      "8                Albany  \n",
      "9                Albany  \n",
      "10               Albany  \n",
      "11               Albany  \n",
      "12               Albany  \n",
      "13               Albany  \n",
      "14               Albany  \n",
      "15               Albany  \n",
      "16               Albany  \n",
      "17               Albany  \n",
      "18               Albany  \n",
      "19               Albany  \n",
      "20               Albany  \n",
      "21               Albany  \n",
      "22               Albany  \n",
      "23               Albany  \n",
      "24               Albany  \n",
      "25               Albany  \n",
      "26               Albany  \n",
      "27               Albany  \n",
      "28               Albany  \n",
      "29               Albany  \n",
      "...                 ...  \n",
      "18219           TotalUS  \n",
      "18220           TotalUS  \n",
      "18221           TotalUS  \n",
      "18222           TotalUS  \n",
      "18223           TotalUS  \n",
      "18224           TotalUS  \n",
      "18225              West  \n",
      "18226              West  \n",
      "18227              West  \n",
      "18228              West  \n",
      "18229              West  \n",
      "18230              West  \n",
      "18231              West  \n",
      "18232              West  \n",
      "18233              West  \n",
      "18234              West  \n",
      "18235              West  \n",
      "18236              West  \n",
      "18237  WestTexNewMexico  \n",
      "18238  WestTexNewMexico  \n",
      "18239  WestTexNewMexico  \n",
      "18240  WestTexNewMexico  \n",
      "18241  WestTexNewMexico  \n",
      "18242  WestTexNewMexico  \n",
      "18243  WestTexNewMexico  \n",
      "18244  WestTexNewMexico  \n",
      "18245  WestTexNewMexico  \n",
      "18246  WestTexNewMexico  \n",
      "18247  WestTexNewMexico  \n",
      "18248  WestTexNewMexico  \n",
      "\n",
      "[18249 rows x 14 columns]\n"
     ]
    }
   ],
   "source": [
    "import pandas as pd \n",
    "\n",
    "type = {'conventional': 1,'organic': 0} \n",
    "  \n",
    "crime.type = [type[item] for item in crime.type] \n",
    "print(crime)"
   ]
  },
  {
   "cell_type": "code",
   "execution_count": 4,
   "metadata": {},
   "outputs": [
    {
     "data": {
      "text/html": [
       "<div>\n",
       "<style scoped>\n",
       "    .dataframe tbody tr th:only-of-type {\n",
       "        vertical-align: middle;\n",
       "    }\n",
       "\n",
       "    .dataframe tbody tr th {\n",
       "        vertical-align: top;\n",
       "    }\n",
       "\n",
       "    .dataframe thead th {\n",
       "        text-align: right;\n",
       "    }\n",
       "</style>\n",
       "<table border=\"1\" class=\"dataframe\">\n",
       "  <thead>\n",
       "    <tr style=\"text-align: right;\">\n",
       "      <th></th>\n",
       "      <th>num</th>\n",
       "      <th>AveragePrice</th>\n",
       "      <th>Total Volume</th>\n",
       "      <th>4046</th>\n",
       "      <th>4225</th>\n",
       "      <th>4770</th>\n",
       "      <th>Total Bags</th>\n",
       "      <th>Small Bags</th>\n",
       "      <th>Large Bags</th>\n",
       "      <th>XLarge Bags</th>\n",
       "      <th>year</th>\n",
       "    </tr>\n",
       "  </thead>\n",
       "  <tbody>\n",
       "    <tr>\n",
       "      <th>0</th>\n",
       "      <td>0</td>\n",
       "      <td>1.33</td>\n",
       "      <td>64236.62</td>\n",
       "      <td>1036.74</td>\n",
       "      <td>54454.85</td>\n",
       "      <td>48.16</td>\n",
       "      <td>8696.87</td>\n",
       "      <td>8603.62</td>\n",
       "      <td>93.25</td>\n",
       "      <td>0.0</td>\n",
       "      <td>2015</td>\n",
       "    </tr>\n",
       "    <tr>\n",
       "      <th>1</th>\n",
       "      <td>1</td>\n",
       "      <td>1.35</td>\n",
       "      <td>54876.98</td>\n",
       "      <td>674.28</td>\n",
       "      <td>44638.81</td>\n",
       "      <td>58.33</td>\n",
       "      <td>9505.56</td>\n",
       "      <td>9408.07</td>\n",
       "      <td>97.49</td>\n",
       "      <td>0.0</td>\n",
       "      <td>2015</td>\n",
       "    </tr>\n",
       "    <tr>\n",
       "      <th>2</th>\n",
       "      <td>2</td>\n",
       "      <td>0.93</td>\n",
       "      <td>118220.22</td>\n",
       "      <td>794.70</td>\n",
       "      <td>109149.67</td>\n",
       "      <td>130.50</td>\n",
       "      <td>8145.35</td>\n",
       "      <td>8042.21</td>\n",
       "      <td>103.14</td>\n",
       "      <td>0.0</td>\n",
       "      <td>2015</td>\n",
       "    </tr>\n",
       "    <tr>\n",
       "      <th>3</th>\n",
       "      <td>3</td>\n",
       "      <td>1.08</td>\n",
       "      <td>78992.15</td>\n",
       "      <td>1132.00</td>\n",
       "      <td>71976.41</td>\n",
       "      <td>72.58</td>\n",
       "      <td>5811.16</td>\n",
       "      <td>5677.40</td>\n",
       "      <td>133.76</td>\n",
       "      <td>0.0</td>\n",
       "      <td>2015</td>\n",
       "    </tr>\n",
       "    <tr>\n",
       "      <th>4</th>\n",
       "      <td>4</td>\n",
       "      <td>1.28</td>\n",
       "      <td>51039.60</td>\n",
       "      <td>941.48</td>\n",
       "      <td>43838.39</td>\n",
       "      <td>75.78</td>\n",
       "      <td>6183.95</td>\n",
       "      <td>5986.26</td>\n",
       "      <td>197.69</td>\n",
       "      <td>0.0</td>\n",
       "      <td>2015</td>\n",
       "    </tr>\n",
       "  </tbody>\n",
       "</table>\n",
       "</div>"
      ],
      "text/plain": [
       "   num  AveragePrice  Total Volume     4046       4225    4770  Total Bags  \\\n",
       "0    0          1.33      64236.62  1036.74   54454.85   48.16     8696.87   \n",
       "1    1          1.35      54876.98   674.28   44638.81   58.33     9505.56   \n",
       "2    2          0.93     118220.22   794.70  109149.67  130.50     8145.35   \n",
       "3    3          1.08      78992.15  1132.00   71976.41   72.58     5811.16   \n",
       "4    4          1.28      51039.60   941.48   43838.39   75.78     6183.95   \n",
       "\n",
       "   Small Bags  Large Bags  XLarge Bags  year  \n",
       "0     8603.62       93.25          0.0  2015  \n",
       "1     9408.07       97.49          0.0  2015  \n",
       "2     8042.21      103.14          0.0  2015  \n",
       "3     5677.40      133.76          0.0  2015  \n",
       "4     5986.26      197.69          0.0  2015  "
      ]
     },
     "execution_count": 4,
     "metadata": {},
     "output_type": "execute_result"
    }
   ],
   "source": [
    "X = crime.drop(['type','Date','region'], axis=1)\n",
    "X.head()"
   ]
  },
  {
   "cell_type": "code",
   "execution_count": 5,
   "metadata": {},
   "outputs": [],
   "source": [
    "y = crime[\"type\"]"
   ]
  },
  {
   "cell_type": "code",
   "execution_count": 6,
   "metadata": {},
   "outputs": [],
   "source": [
    "from sklearn.model_selection import train_test_split\n",
    "X_train, X_test, y_train, y_test = train_test_split(X, y, test_size=0.25, random_state=1)"
   ]
  },
  {
   "cell_type": "code",
   "execution_count": 7,
   "metadata": {},
   "outputs": [],
   "source": [
    "from sklearn.ensemble import RandomForestClassifier\n",
    "model1 = RandomForestClassifier(random_state = 0)"
   ]
  },
  {
   "cell_type": "code",
   "execution_count": 8,
   "metadata": {},
   "outputs": [],
   "source": [
    "    model2 = RandomForestClassifier(criterion='entropy',\n",
    "                                    n_estimators=15,\n",
    "                                    random_state = 0,\n",
    "                                    max_depth=3,\n",
    "                                    min_samples_split=5,\n",
    "                                    min_samples_leaf=4,\n",
    "                                    max_leaf_nodes=5,\n",
    "                                    n_jobs=-1,\n",
    "                                )"
   ]
  },
  {
   "cell_type": "code",
   "execution_count": 9,
   "metadata": {},
   "outputs": [
    {
     "name": "stderr",
     "output_type": "stream",
     "text": [
      "C:\\Users\\Bharath\\Anaconda3\\lib\\site-packages\\sklearn\\ensemble\\forest.py:246: FutureWarning: The default value of n_estimators will change from 10 in version 0.20 to 100 in 0.22.\n",
      "  \"10 in version 0.20 to 100 in 0.22.\", FutureWarning)\n"
     ]
    },
    {
     "data": {
      "text/plain": [
       "RandomForestClassifier(bootstrap=True, class_weight=None, criterion='gini',\n",
       "            max_depth=None, max_features='auto', max_leaf_nodes=None,\n",
       "            min_impurity_decrease=0.0, min_impurity_split=None,\n",
       "            min_samples_leaf=1, min_samples_split=2,\n",
       "            min_weight_fraction_leaf=0.0, n_estimators=10, n_jobs=None,\n",
       "            oob_score=False, random_state=0, verbose=0, warm_start=False)"
      ]
     },
     "execution_count": 9,
     "metadata": {},
     "output_type": "execute_result"
    }
   ],
   "source": [
    "model1.fit(X_train,y_train)"
   ]
  },
  {
   "cell_type": "code",
   "execution_count": 10,
   "metadata": {},
   "outputs": [
    {
     "data": {
      "text/plain": [
       "RandomForestClassifier(bootstrap=True, class_weight=None, criterion='entropy',\n",
       "            max_depth=3, max_features='auto', max_leaf_nodes=5,\n",
       "            min_impurity_decrease=0.0, min_impurity_split=None,\n",
       "            min_samples_leaf=4, min_samples_split=5,\n",
       "            min_weight_fraction_leaf=0.0, n_estimators=15, n_jobs=-1,\n",
       "            oob_score=False, random_state=0, verbose=0, warm_start=False)"
      ]
     },
     "execution_count": 10,
     "metadata": {},
     "output_type": "execute_result"
    }
   ],
   "source": [
    "model2.fit(X_train,y_train)"
   ]
  },
  {
   "cell_type": "code",
   "execution_count": 11,
   "metadata": {},
   "outputs": [],
   "source": [
    "prediction1 = pd.DataFrame()\n",
    "prediction1 = model1.predict(X_test)"
   ]
  },
  {
   "cell_type": "code",
   "execution_count": 13,
   "metadata": {},
   "outputs": [],
   "source": [
    "prediction2 = pd.DataFrame()\n",
    "prediction2 = model2.predict(X_test)"
   ]
  },
  {
   "cell_type": "code",
   "execution_count": 14,
   "metadata": {},
   "outputs": [
    {
     "name": "stdout",
     "output_type": "stream",
     "text": [
      "Accuracy score for test data with model 1 is: 0.9956169186938417\n",
      "Accuracy score for test data with model 2 is: 0.9570458031996494\n"
     ]
    }
   ],
   "source": [
    "from sklearn.metrics import accuracy_score\n",
    "print('Accuracy score for test data with model 1 is:',accuracy_score(y_test, prediction1))\n",
    "print('Accuracy score for test data with model 2 is:',accuracy_score(y_test, prediction2))"
   ]
  },
  {
   "cell_type": "code",
   "execution_count": 15,
   "metadata": {},
   "outputs": [
    {
     "name": "stdout",
     "output_type": "stream",
     "text": [
      "Confusion matrix for test data with model 2 is:\n",
      " [[2262    9]\n",
      " [  11 2281]]\n",
      "Confusion matrix for test data with model 2 is:\n",
      " [[2113  158]\n",
      " [  38 2254]]\n"
     ]
    }
   ],
   "source": [
    "from sklearn.metrics import confusion_matrix\n",
    "print('Confusion matrix for test data with model 2 is:\\n',confusion_matrix(y_test, prediction1))\n",
    "print('Confusion matrix for test data with model 2 is:\\n',confusion_matrix(y_test, prediction2))"
   ]
  },
  {
   "cell_type": "code",
   "execution_count": 16,
   "metadata": {},
   "outputs": [
    {
     "name": "stdout",
     "output_type": "stream",
     "text": [
      "Precision score for test data using model1 is: 0.9960698689956332\n",
      "Precision score for test data using model2 is: 0.9344941956882256\n"
     ]
    }
   ],
   "source": [
    "from sklearn.metrics import precision_score\n",
    "precision1 = precision_score(y_test,prediction1)\n",
    "print('Precision score for test data using model1 is:', precision1)\n",
    "precision2 = precision_score(y_test,prediction2)\n",
    "print('Precision score for test data using model2 is:', precision2)"
   ]
  },
  {
   "cell_type": "code",
   "execution_count": 17,
   "metadata": {},
   "outputs": [
    {
     "name": "stdout",
     "output_type": "stream",
     "text": [
      "Recall score for test data using model1 is: 0.9952006980802792\n",
      "Recall score for test data using model2 is: 0.9834205933682374\n"
     ]
    }
   ],
   "source": [
    "from sklearn.metrics import recall_score\n",
    "print('Recall score for test data using model1 is:',recall_score(y_test,prediction1))   \n",
    "print('Recall score for test data using model2 is:',recall_score(y_test,prediction2))"
   ]
  },
  {
   "cell_type": "code",
   "execution_count": 18,
   "metadata": {},
   "outputs": [
    {
     "name": "stdout",
     "output_type": "stream",
     "text": [
      "F1_score for test data using model1 is: 0.9956350938454822\n",
      "F1_score for test data using model2 is: 0.9583333333333334\n"
     ]
    }
   ],
   "source": [
    "from sklearn.metrics import f1_score\n",
    "print('F1_score for test data using model1 is:',f1_score(y_test, prediction1))\n",
    "print('F1_score for test data using model2 is:',f1_score(y_test, prediction2))"
   ]
  },
  {
   "cell_type": "code",
   "execution_count": 19,
   "metadata": {},
   "outputs": [
    {
     "data": {
      "image/png": "[encoded data removed]",
      "text/plain": [
       "<Figure size 432x288 with 1 Axes>"
      ]
     },
     "metadata": {
      "needs_background": "light"
     },
     "output_type": "display_data"
    }
   ],
   "source": [
    "from sklearn import metrics\n",
    "probs = model1.predict_proba(X_test)\n",
    "preds = probs[:,1]\n",
    "fpr, tpr, threshold = metrics.roc_curve(y_test, preds)\n",
    "roc_auc = metrics.auc(fpr, tpr)\n",
    "\n",
    "import matplotlib.pyplot as plt\n",
    "plt.title('Receiver Operating Characteristic')\n",
    "plt.plot(fpr, tpr, 'b', label = 'AUC = %0.2f' % roc_auc)\n",
    "plt.legend(loc = 'lower right')\n",
    "plt.plot([0, 1], [0, 1],'r--')\n",
    "plt.xlim([0, 1])\n",
    "plt.ylim([0, 1])\n",
    "plt.ylabel('True Positive Rate')\n",
    "plt.xlabel('False Positive Rate')\n",
    "plt.show()"
   ]
  },
  {
   "cell_type": "code",
   "execution_count": 20,
   "metadata": {},
   "outputs": [
    {
     "data": {
      "image/png": "[encoded data removed]",
      "text/plain": [
       "<Figure size 432x288 with 1 Axes>"
      ]
     },
     "metadata": {
      "needs_background": "light"
     },
     "output_type": "display_data"
    }
   ],
   "source": [
    "from sklearn import metrics\n",
    "probs = model2.predict_proba(X_test)\n",
    "pred = probs[:,1]\n",
    "fpr1, tpr1, threshold = metrics.roc_curve(y_test, pred)\n",
    "roc_auc = metrics.auc(fpr1, tpr1)\n",
    "\n",
    "# method I: plt\n",
    "import matplotlib.pyplot as plt\n",
    "plt.title('Receiver Operating Characteristic')\n",
    "plt.plot(fpr1, tpr1, 'b', label = 'AUC = %0.2f' % roc_auc)\n",
    "plt.legend(loc = 'lower right')\n",
    "plt.plot([0, 1], [0, 1],'r--')\n",
    "plt.xlim([0, 1])\n",
    "plt.ylim([0, 1])\n",
    "plt.ylabel('True Positive Rate')\n",
    "plt.xlabel('False Positive Rate')\n",
    "plt.show()"
   ]
  },
  {
   "cell_type": "code",
   "execution_count": null,
   "metadata": {},
   "outputs": [],
   "source": []
  }
 ],
 "metadata": {
  "kernelspec": {
   "display_name": "Python 3",
   "language": "python",
   "name": "python3"
  },
  "language_info": {
   "codemirror_mode": {
    "name": "ipython",
    "version": 3
   },
   "file_extension": ".py",
   "mimetype": "text/x-python",
   "name": "python",
   "nbconvert_exporter": "python",
   "pygments_lexer": "ipython3",
   "version": "3.7.1"
  }
 },
 "nbformat": 4,
 "nbformat_minor": 2
}
